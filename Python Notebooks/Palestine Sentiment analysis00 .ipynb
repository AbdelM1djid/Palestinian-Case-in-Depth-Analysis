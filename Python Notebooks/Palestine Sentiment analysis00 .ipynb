{
 "cells": [
  {
   "cell_type": "code",
   "execution_count": 1,
   "id": "348fb2c4",
   "metadata": {},
   "outputs": [],
   "source": [
    "import pandas as pd\n",
    "import numpy as np \n",
    "import re \n",
    "import string\n",
    "import warnings \n",
    "warnings.simplefilter(action='ignore',category=FutureWarning)\n",
    "from nltk.corpus import stopwords\n",
    "from nltk.stem import PorterStemmer #to stem words\n",
    "from transformers import AutoTokenizer, AutoModelForSequenceClassification\n",
    "from scipy.special import softmax #to convert output into probability "
   ]
  },
  {
   "cell_type": "code",
   "execution_count": 2,
   "id": "2b86458d",
   "metadata": {},
   "outputs": [
    {
     "data": {
      "text/html": [
       "<div>\n",
       "<style scoped>\n",
       "    .dataframe tbody tr th:only-of-type {\n",
       "        vertical-align: middle;\n",
       "    }\n",
       "\n",
       "    .dataframe tbody tr th {\n",
       "        vertical-align: top;\n",
       "    }\n",
       "\n",
       "    .dataframe thead th {\n",
       "        text-align: right;\n",
       "    }\n",
       "</style>\n",
       "<table border=\"1\" class=\"dataframe\">\n",
       "  <thead>\n",
       "    <tr style=\"text-align: right;\">\n",
       "      <th></th>\n",
       "      <th>Tweet Id</th>\n",
       "      <th>DateTime</th>\n",
       "      <th>Place</th>\n",
       "      <th>Source</th>\n",
       "      <th>Username</th>\n",
       "      <th>Content</th>\n",
       "      <th>hashtags</th>\n",
       "      <th>Likes Number</th>\n",
       "      <th>Quote Number</th>\n",
       "      <th>Reply Number</th>\n",
       "      <th>Retweets Number</th>\n",
       "      <th>Month</th>\n",
       "      <th>Day</th>\n",
       "      <th>Hour</th>\n",
       "      <th>LANG</th>\n",
       "    </tr>\n",
       "  </thead>\n",
       "  <tbody>\n",
       "    <tr>\n",
       "      <th>129368</th>\n",
       "      <td>1477081935184858880</td>\n",
       "      <td>2022-01-01</td>\n",
       "      <td>NaN</td>\n",
       "      <td>Android</td>\n",
       "      <td>SFOUK_AL_SHIKH</td>\n",
       "      <td>تحت الطاولة:  بلغ حجم التبادل التجاري والاستثم...</td>\n",
       "      <td>الجزائر, إسرائيل</td>\n",
       "      <td>75</td>\n",
       "      <td>1</td>\n",
       "      <td>9</td>\n",
       "      <td>9</td>\n",
       "      <td>1</td>\n",
       "      <td>1</td>\n",
       "      <td>0</td>\n",
       "      <td>Arabic</td>\n",
       "    </tr>\n",
       "    <tr>\n",
       "      <th>129369</th>\n",
       "      <td>1477077480573914880</td>\n",
       "      <td>2022-01-01</td>\n",
       "      <td>NaN</td>\n",
       "      <td>iPhone</td>\n",
       "      <td>IbtisamAzem</td>\n",
       "      <td>على أمل السنة الجاي أفضل من 2021  كل عام وأنتم...</td>\n",
       "      <td>فلسطين, العراق, سورية, اليمن, مصر, تونس, السود...</td>\n",
       "      <td>10</td>\n",
       "      <td>0</td>\n",
       "      <td>5</td>\n",
       "      <td>0</td>\n",
       "      <td>1</td>\n",
       "      <td>1</td>\n",
       "      <td>0</td>\n",
       "      <td>Arabic</td>\n",
       "    </tr>\n",
       "    <tr>\n",
       "      <th>129370</th>\n",
       "      <td>1477076343296777984</td>\n",
       "      <td>2022-01-01</td>\n",
       "      <td>NaN</td>\n",
       "      <td>Android</td>\n",
       "      <td>AhmedBatneeji</td>\n",
       "      <td>كتيبة ثم سرايا ثم الجندي ثم شارع الوحدة واليوم...</td>\n",
       "      <td>No_Hash</td>\n",
       "      <td>32</td>\n",
       "      <td>0</td>\n",
       "      <td>0</td>\n",
       "      <td>0</td>\n",
       "      <td>1</td>\n",
       "      <td>1</td>\n",
       "      <td>0</td>\n",
       "      <td>Arabic</td>\n",
       "    </tr>\n",
       "    <tr>\n",
       "      <th>129371</th>\n",
       "      <td>1477075145340689920</td>\n",
       "      <td>2022-01-01</td>\n",
       "      <td>NaN</td>\n",
       "      <td>iPhone</td>\n",
       "      <td>MaherA7med</td>\n",
       "      <td>لحظة إيقاد شعلة ذكرى إنطلاقة الثورة الفلسطينية...</td>\n",
       "      <td>No_Hash</td>\n",
       "      <td>58</td>\n",
       "      <td>1</td>\n",
       "      <td>3</td>\n",
       "      <td>10</td>\n",
       "      <td>1</td>\n",
       "      <td>1</td>\n",
       "      <td>0</td>\n",
       "      <td>Arabic</td>\n",
       "    </tr>\n",
       "    <tr>\n",
       "      <th>129372</th>\n",
       "      <td>1477069104687333120</td>\n",
       "      <td>2022-01-01</td>\n",
       "      <td>NaN</td>\n",
       "      <td>Android</td>\n",
       "      <td>Rahmon83</td>\n",
       "      <td>وترجل رمح فلسطين العالي وشاعرها الكبير ابن جني...</td>\n",
       "      <td>No_Hash</td>\n",
       "      <td>50</td>\n",
       "      <td>0</td>\n",
       "      <td>5</td>\n",
       "      <td>7</td>\n",
       "      <td>1</td>\n",
       "      <td>1</td>\n",
       "      <td>0</td>\n",
       "      <td>Arabic</td>\n",
       "    </tr>\n",
       "  </tbody>\n",
       "</table>\n",
       "</div>"
      ],
      "text/plain": [
       "                   Tweet Id   DateTime Place   Source        Username  \\\n",
       "129368  1477081935184858880 2022-01-01   NaN  Android  SFOUK_AL_SHIKH   \n",
       "129369  1477077480573914880 2022-01-01   NaN   iPhone     IbtisamAzem   \n",
       "129370  1477076343296777984 2022-01-01   NaN  Android   AhmedBatneeji   \n",
       "129371  1477075145340689920 2022-01-01   NaN   iPhone      MaherA7med   \n",
       "129372  1477069104687333120 2022-01-01   NaN  Android        Rahmon83   \n",
       "\n",
       "                                                  Content  \\\n",
       "129368  تحت الطاولة:  بلغ حجم التبادل التجاري والاستثم...   \n",
       "129369  على أمل السنة الجاي أفضل من 2021  كل عام وأنتم...   \n",
       "129370  كتيبة ثم سرايا ثم الجندي ثم شارع الوحدة واليوم...   \n",
       "129371  لحظة إيقاد شعلة ذكرى إنطلاقة الثورة الفلسطينية...   \n",
       "129372  وترجل رمح فلسطين العالي وشاعرها الكبير ابن جني...   \n",
       "\n",
       "                                                 hashtags  Likes Number  \\\n",
       "129368                                   الجزائر, إسرائيل            75   \n",
       "129369  فلسطين, العراق, سورية, اليمن, مصر, تونس, السود...            10   \n",
       "129370                                            No_Hash            32   \n",
       "129371                                            No_Hash            58   \n",
       "129372                                            No_Hash            50   \n",
       "\n",
       "        Quote Number  Reply Number  Retweets Number  Month  Day  Hour    LANG  \n",
       "129368             1             9                9      1    1     0  Arabic  \n",
       "129369             0             5                0      1    1     0  Arabic  \n",
       "129370             0             0                0      1    1     0  Arabic  \n",
       "129371             1             3               10      1    1     0  Arabic  \n",
       "129372             0             5                7      1    1     0  Arabic  "
      ]
     },
     "execution_count": 2,
     "metadata": {},
     "output_type": "execute_result"
    }
   ],
   "source": [
    "Palestine = pd.read_excel('E:\\Work\\Data Analysis Projects\\Palestinian Project\\Sentiment analysis files\\\\SentimentFile.xlsx',index_col=0)\n",
    "Palestine.head()"
   ]
  },
  {
   "cell_type": "code",
   "execution_count": 3,
   "id": "6eb50f81",
   "metadata": {},
   "outputs": [
    {
     "data": {
      "text/html": [
       "<div>\n",
       "<style scoped>\n",
       "    .dataframe tbody tr th:only-of-type {\n",
       "        vertical-align: middle;\n",
       "    }\n",
       "\n",
       "    .dataframe tbody tr th {\n",
       "        vertical-align: top;\n",
       "    }\n",
       "\n",
       "    .dataframe thead th {\n",
       "        text-align: right;\n",
       "    }\n",
       "</style>\n",
       "<table border=\"1\" class=\"dataframe\">\n",
       "  <thead>\n",
       "    <tr style=\"text-align: right;\">\n",
       "      <th></th>\n",
       "      <th>Content</th>\n",
       "      <th>Tweet Id</th>\n",
       "    </tr>\n",
       "  </thead>\n",
       "  <tbody>\n",
       "    <tr>\n",
       "      <th>71688</th>\n",
       "      <td>a photo from 2021 that will always ground me a...</td>\n",
       "      <td>1477076437651934976</td>\n",
       "    </tr>\n",
       "    <tr>\n",
       "      <th>71689</th>\n",
       "      <td>My 2022 wish: for world to embrace the incredi...</td>\n",
       "      <td>1477073720875311104</td>\n",
       "    </tr>\n",
       "    <tr>\n",
       "      <th>71690</th>\n",
       "      <td>I for one have never bought into the internati...</td>\n",
       "      <td>1477070281596408064</td>\n",
       "    </tr>\n",
       "    <tr>\n",
       "      <th>71691</th>\n",
       "      <td>I forgot to say that partner and kid made me a...</td>\n",
       "      <td>1477069177764545024</td>\n",
       "    </tr>\n",
       "    <tr>\n",
       "      <th>71692</th>\n",
       "      <td>Happy New Year friends. All we want for 2022 i...</td>\n",
       "      <td>1477067807644922112</td>\n",
       "    </tr>\n",
       "    <tr>\n",
       "      <th>...</th>\n",
       "      <td>...</td>\n",
       "      <td>...</td>\n",
       "    </tr>\n",
       "    <tr>\n",
       "      <th>7</th>\n",
       "      <td>There is a threat to Israel from Gaza. But it'...</td>\n",
       "      <td>1564755561652130048</td>\n",
       "    </tr>\n",
       "    <tr>\n",
       "      <th>8</th>\n",
       "      <td>How could I forget the dreams, memories, and l...</td>\n",
       "      <td>1564755451090199040</td>\n",
       "    </tr>\n",
       "    <tr>\n",
       "      <th>9</th>\n",
       "      <td>How could I forget the dreams, memories, and l...</td>\n",
       "      <td>1564755384673385984</td>\n",
       "    </tr>\n",
       "    <tr>\n",
       "      <th>10</th>\n",
       "      <td>Oh really? The same Christian cultural hegemon...</td>\n",
       "      <td>1564754597561908992</td>\n",
       "    </tr>\n",
       "    <tr>\n",
       "      <th>11</th>\n",
       "      <td>i was tweeting about israel and palestine and ...</td>\n",
       "      <td>1564752990698873088</td>\n",
       "    </tr>\n",
       "  </tbody>\n",
       "</table>\n",
       "<p>71431 rows × 2 columns</p>\n",
       "</div>"
      ],
      "text/plain": [
       "                                                 Content             Tweet Id\n",
       "71688  a photo from 2021 that will always ground me a...  1477076437651934976\n",
       "71689  My 2022 wish: for world to embrace the incredi...  1477073720875311104\n",
       "71690  I for one have never bought into the internati...  1477070281596408064\n",
       "71691  I forgot to say that partner and kid made me a...  1477069177764545024\n",
       "71692  Happy New Year friends. All we want for 2022 i...  1477067807644922112\n",
       "...                                                  ...                  ...\n",
       "7      There is a threat to Israel from Gaza. But it'...  1564755561652130048\n",
       "8      How could I forget the dreams, memories, and l...  1564755451090199040\n",
       "9      How could I forget the dreams, memories, and l...  1564755384673385984\n",
       "10     Oh really? The same Christian cultural hegemon...  1564754597561908992\n",
       "11     i was tweeting about israel and palestine and ...  1564752990698873088\n",
       "\n",
       "[71431 rows x 2 columns]"
      ]
     },
     "execution_count": 3,
     "metadata": {},
     "output_type": "execute_result"
    }
   ],
   "source": [
    "#Preparing DATA : \n",
    "VerEN = Palestine.loc[Palestine['LANG']=='English']\n",
    "VerAR = Palestine.loc[Palestine['LANG']=='Arabic']\n",
    "VersEN = VerEN[['Content','Tweet Id']]\n",
    "VersEN"
   ]
  },
  {
   "cell_type": "markdown",
   "id": "23b9c25f",
   "metadata": {},
   "source": [
    "### English Sentiment Analysis  "
   ]
  },
  {
   "cell_type": "code",
   "execution_count": 4,
   "id": "ffcbff4a",
   "metadata": {},
   "outputs": [],
   "source": [
    "import nltk"
   ]
  },
  {
   "cell_type": "code",
   "execution_count": 83,
   "id": "52b83a42",
   "metadata": {},
   "outputs": [],
   "source": [
    "ps = PorterStemmer() #to remove extra letters at the end of the word ex : Lov-'ed'"
   ]
  },
  {
   "cell_type": "code",
   "execution_count": 84,
   "id": "7160db95",
   "metadata": {},
   "outputs": [
    {
     "name": "stderr",
     "output_type": "stream",
     "text": [
      "<ipython-input-84-a7e30e713f9d>:1: SettingWithCopyWarning: \n",
      "A value is trying to be set on a copy of a slice from a DataFrame\n",
      "\n",
      "See the caveats in the documentation: https://pandas.pydata.org/pandas-docs/stable/user_guide/indexing.html#returning-a-view-versus-a-copy\n",
      "  VersEN.drop_duplicates(inplace=True,keep='first')\n"
     ]
    }
   ],
   "source": [
    "VersEN.drop_duplicates(inplace=True,keep='first')"
   ]
  },
  {
   "cell_type": "code",
   "execution_count": 85,
   "id": "baa6c0d0",
   "metadata": {},
   "outputs": [
    {
     "name": "stderr",
     "output_type": "stream",
     "text": [
      "<ipython-input-85-63eb7d5ae894>:2: SettingWithCopyWarning: \n",
      "A value is trying to be set on a copy of a slice from a DataFrame.\n",
      "Try using .loc[row_indexer,col_indexer] = value instead\n",
      "\n",
      "See the caveats in the documentation: https://pandas.pydata.org/pandas-docs/stable/user_guide/indexing.html#returning-a-view-versus-a-copy\n",
      "  VersEN['Content'] = VersEN['Content'].apply(lambda x: re.split('https:\\/\\/.*', str(x))[0])\n"
     ]
    }
   ],
   "source": [
    "#removing links\n",
    "VersEN['Content'] = VersEN['Content'].apply(lambda x: re.split('https:\\/\\/.*', str(x))[0])"
   ]
  },
  {
   "cell_type": "code",
   "execution_count": 86,
   "id": "39b4bd05",
   "metadata": {},
   "outputs": [],
   "source": [
    "VersEN.reset_index(drop=True,inplace=True)"
   ]
  },
  {
   "cell_type": "code",
   "execution_count": 87,
   "id": "2405034d",
   "metadata": {},
   "outputs": [],
   "source": [
    "\n",
    "#Roberta Model\n",
    "tokenizer = AutoTokenizer.from_pretrained('cardiffnlp/twitter-roberta-base-sentiment')\n",
    "model = AutoModelForSequenceClassification.from_pretrained(\"cardiffnlp/twitter-roberta-base-sentiment\")"
   ]
  },
  {
   "cell_type": "code",
   "execution_count": 88,
   "id": "04125608",
   "metadata": {},
   "outputs": [],
   "source": [
    "#Initializing Labels\n",
    "labels = ['Negative','Neutral','Positive']"
   ]
  },
  {
   "cell_type": "code",
   "execution_count": 89,
   "id": "89f31127",
   "metadata": {},
   "outputs": [
    {
     "name": "stderr",
     "output_type": "stream",
     "text": [
      "C:\\Users\\Madjid\\anaconda3\\lib\\site-packages\\pandas\\core\\indexing.py:1599: SettingWithCopyWarning: \n",
      "A value is trying to be set on a copy of a slice from a DataFrame.\n",
      "Try using .loc[row_indexer,col_indexer] = value instead\n",
      "\n",
      "See the caveats in the documentation: https://pandas.pydata.org/pandas-docs/stable/user_guide/indexing.html#returning-a-view-versus-a-copy\n",
      "  self.obj[key] = infer_fill_value(value)\n",
      "C:\\Users\\Madjid\\anaconda3\\lib\\site-packages\\pandas\\core\\indexing.py:1720: SettingWithCopyWarning: \n",
      "A value is trying to be set on a copy of a slice from a DataFrame.\n",
      "Try using .loc[row_indexer,col_indexer] = value instead\n",
      "\n",
      "See the caveats in the documentation: https://pandas.pydata.org/pandas-docs/stable/user_guide/indexing.html#returning-a-view-versus-a-copy\n",
      "  self._setitem_single_column(loc, value, pi)\n"
     ]
    }
   ],
   "source": [
    "for i in range(len(VersEN)) : \n",
    "    s = re.sub('[^a-zA-Z]',' ',VersEN['Content'].iloc[i]) #to keep words only , ^ means Not \n",
    "    s = s.lower() # to lower case the words\n",
    "    s = s.split() #ivides a String into an ordered list of substrings\n",
    "    s = [word for word in s if word  not in stopwords.words('english')] #keep only words that are not in the stop words list \n",
    "    s = ' '.join(s) # joins words with white space in between\n",
    "    s = ps.stem(s)\n",
    "    encoded_tweet = tokenizer(s,return_tensors='pt')\n",
    "    output = model(**encoded_tweet)\n",
    "    scores = output[0][0].detach().numpy()\n",
    "    scores = softmax(scores)\n",
    "    for j in range(len(scores)) : \n",
    "        if max(scores) == scores[j] : \n",
    "            VersEN.loc[i,'Sentiment'] = labels[j]"
   ]
  },
  {
   "cell_type": "code",
   "execution_count": 90,
   "id": "66ef943b",
   "metadata": {},
   "outputs": [
    {
     "data": {
      "text/html": [
       "<div>\n",
       "<style scoped>\n",
       "    .dataframe tbody tr th:only-of-type {\n",
       "        vertical-align: middle;\n",
       "    }\n",
       "\n",
       "    .dataframe tbody tr th {\n",
       "        vertical-align: top;\n",
       "    }\n",
       "\n",
       "    .dataframe thead th {\n",
       "        text-align: right;\n",
       "    }\n",
       "</style>\n",
       "<table border=\"1\" class=\"dataframe\">\n",
       "  <thead>\n",
       "    <tr style=\"text-align: right;\">\n",
       "      <th></th>\n",
       "      <th>Content</th>\n",
       "      <th>Tweet Id</th>\n",
       "      <th>Sentiment</th>\n",
       "    </tr>\n",
       "  </thead>\n",
       "  <tbody>\n",
       "    <tr>\n",
       "      <th>0</th>\n",
       "      <td>a photo from 2021 that will always ground me a...</td>\n",
       "      <td>1477076437651934976</td>\n",
       "      <td>Positive</td>\n",
       "    </tr>\n",
       "    <tr>\n",
       "      <th>1</th>\n",
       "      <td>My 2022 wish: for world to embrace the incredi...</td>\n",
       "      <td>1477073720875311104</td>\n",
       "      <td>Positive</td>\n",
       "    </tr>\n",
       "    <tr>\n",
       "      <th>2</th>\n",
       "      <td>I for one have never bought into the internati...</td>\n",
       "      <td>1477070281596408064</td>\n",
       "      <td>Negative</td>\n",
       "    </tr>\n",
       "    <tr>\n",
       "      <th>3</th>\n",
       "      <td>I forgot to say that partner and kid made me a...</td>\n",
       "      <td>1477069177764545024</td>\n",
       "      <td>Neutral</td>\n",
       "    </tr>\n",
       "    <tr>\n",
       "      <th>4</th>\n",
       "      <td>Happy New Year friends. All we want for 2022 i...</td>\n",
       "      <td>1477067807644922112</td>\n",
       "      <td>Positive</td>\n",
       "    </tr>\n",
       "    <tr>\n",
       "      <th>...</th>\n",
       "      <td>...</td>\n",
       "      <td>...</td>\n",
       "      <td>...</td>\n",
       "    </tr>\n",
       "    <tr>\n",
       "      <th>71426</th>\n",
       "      <td>There is a threat to Israel from Gaza. But it'...</td>\n",
       "      <td>1564755561652130048</td>\n",
       "      <td>Neutral</td>\n",
       "    </tr>\n",
       "    <tr>\n",
       "      <th>71427</th>\n",
       "      <td>How could I forget the dreams, memories, and l...</td>\n",
       "      <td>1564755451090199040</td>\n",
       "      <td>Positive</td>\n",
       "    </tr>\n",
       "    <tr>\n",
       "      <th>71428</th>\n",
       "      <td>How could I forget the dreams, memories, and l...</td>\n",
       "      <td>1564755384673385984</td>\n",
       "      <td>Positive</td>\n",
       "    </tr>\n",
       "    <tr>\n",
       "      <th>71429</th>\n",
       "      <td>Oh really? The same Christian cultural hegemon...</td>\n",
       "      <td>1564754597561908992</td>\n",
       "      <td>Negative</td>\n",
       "    </tr>\n",
       "    <tr>\n",
       "      <th>71430</th>\n",
       "      <td>i was tweeting about israel and palestine and ...</td>\n",
       "      <td>1564752990698873088</td>\n",
       "      <td>Negative</td>\n",
       "    </tr>\n",
       "  </tbody>\n",
       "</table>\n",
       "<p>71431 rows × 3 columns</p>\n",
       "</div>"
      ],
      "text/plain": [
       "                                                 Content             Tweet Id  \\\n",
       "0      a photo from 2021 that will always ground me a...  1477076437651934976   \n",
       "1      My 2022 wish: for world to embrace the incredi...  1477073720875311104   \n",
       "2      I for one have never bought into the internati...  1477070281596408064   \n",
       "3      I forgot to say that partner and kid made me a...  1477069177764545024   \n",
       "4      Happy New Year friends. All we want for 2022 i...  1477067807644922112   \n",
       "...                                                  ...                  ...   \n",
       "71426  There is a threat to Israel from Gaza. But it'...  1564755561652130048   \n",
       "71427  How could I forget the dreams, memories, and l...  1564755451090199040   \n",
       "71428  How could I forget the dreams, memories, and l...  1564755384673385984   \n",
       "71429  Oh really? The same Christian cultural hegemon...  1564754597561908992   \n",
       "71430  i was tweeting about israel and palestine and ...  1564752990698873088   \n",
       "\n",
       "      Sentiment  \n",
       "0      Positive  \n",
       "1      Positive  \n",
       "2      Negative  \n",
       "3       Neutral  \n",
       "4      Positive  \n",
       "...         ...  \n",
       "71426   Neutral  \n",
       "71427  Positive  \n",
       "71428  Positive  \n",
       "71429  Negative  \n",
       "71430  Negative  \n",
       "\n",
       "[71431 rows x 3 columns]"
      ]
     },
     "execution_count": 90,
     "metadata": {},
     "output_type": "execute_result"
    }
   ],
   "source": [
    "VersEN"
   ]
  },
  {
   "cell_type": "code",
   "execution_count": 92,
   "id": "d43914ae",
   "metadata": {},
   "outputs": [],
   "source": [
    "VersEN.to_excel('E:\\\\Work\\\\Data Analysis Projects\\\\Palestinian Project\\\\VersEn.xlsx')"
   ]
  },
  {
   "cell_type": "markdown",
   "id": "176b85e0",
   "metadata": {},
   "source": [
    "### Arabic Sentiment Analysis  "
   ]
  },
  {
   "cell_type": "code",
   "execution_count": 5,
   "id": "2779748c",
   "metadata": {},
   "outputs": [],
   "source": [
    "VersAR = VerAR[[\"Content\",'Tweet Id']]"
   ]
  },
  {
   "cell_type": "code",
   "execution_count": 6,
   "id": "daeed2b6",
   "metadata": {},
   "outputs": [
    {
     "name": "stderr",
     "output_type": "stream",
     "text": [
      "<ipython-input-6-eea8317ff42b>:1: SettingWithCopyWarning: \n",
      "A value is trying to be set on a copy of a slice from a DataFrame\n",
      "\n",
      "See the caveats in the documentation: https://pandas.pydata.org/pandas-docs/stable/user_guide/indexing.html#returning-a-view-versus-a-copy\n",
      "  VersAR.dropna(axis = 0,inplace=True)\n"
     ]
    },
    {
     "data": {
      "text/plain": [
       "Content     0\n",
       "Tweet Id    0\n",
       "dtype: int64"
      ]
     },
     "execution_count": 6,
     "metadata": {},
     "output_type": "execute_result"
    }
   ],
   "source": [
    "VersAR.dropna(axis = 0,inplace=True)\n",
    "VersAR.isna().sum()"
   ]
  },
  {
   "cell_type": "code",
   "execution_count": 7,
   "id": "0ab867ba",
   "metadata": {},
   "outputs": [
    {
     "name": "stderr",
     "output_type": "stream",
     "text": [
      "<ipython-input-7-502e1e158d43>:1: SettingWithCopyWarning: \n",
      "A value is trying to be set on a copy of a slice from a DataFrame\n",
      "\n",
      "See the caveats in the documentation: https://pandas.pydata.org/pandas-docs/stable/user_guide/indexing.html#returning-a-view-versus-a-copy\n",
      "  VersAR.drop_duplicates(inplace=True,keep='first')\n"
     ]
    }
   ],
   "source": [
    "VersAR.drop_duplicates(inplace=True,keep='first')"
   ]
  },
  {
   "cell_type": "code",
   "execution_count": 8,
   "id": "4bef941f",
   "metadata": {},
   "outputs": [
    {
     "data": {
      "text/plain": [
       "(127614, 2)"
      ]
     },
     "execution_count": 8,
     "metadata": {},
     "output_type": "execute_result"
    }
   ],
   "source": [
    "VersAR.shape"
   ]
  },
  {
   "cell_type": "code",
   "execution_count": 9,
   "id": "0c9af2a1",
   "metadata": {},
   "outputs": [
    {
     "name": "stderr",
     "output_type": "stream",
     "text": [
      "Some weights of the model checkpoint at akhooli/xlm-r-large-arabic-sent were not used when initializing XLMRobertaForSequenceClassification: ['roberta.pooler.dense.bias', 'roberta.pooler.dense.weight']\n",
      "- This IS expected if you are initializing XLMRobertaForSequenceClassification from the checkpoint of a model trained on another task or with another architecture (e.g. initializing a BertForSequenceClassification model from a BertForPreTraining model).\n",
      "- This IS NOT expected if you are initializing XLMRobertaForSequenceClassification from the checkpoint of a model that you expect to be exactly identical (initializing a BertForSequenceClassification model from a BertForSequenceClassification model).\n"
     ]
    }
   ],
   "source": [
    "#akhooli arabic model for Sentiment analysis\n",
    "tokenizer1 = AutoTokenizer.from_pretrained('akhooli/xlm-r-large-arabic-sent')\n",
    "model1 = AutoModelForSequenceClassification.from_pretrained(\"akhooli/xlm-r-large-arabic-sent\")"
   ]
  },
  {
   "cell_type": "code",
   "execution_count": 10,
   "id": "7a3483d7",
   "metadata": {},
   "outputs": [],
   "source": [
    "# first we define a list of arabic and english punctiations that we want to get rid of in our text\n",
    "\n",
    "punctuations = '''`÷×؛<>_()*&^%][ـ،/:\"؟.,'{}~¦+|!”…“–ـ''' + string.punctuation\n",
    "\n",
    "# Arabic stop words with nltk\n",
    "stop_words = stopwords.words('arabic')\n",
    "\n",
    "arabic_diacritics = re.compile(\"\"\"\n",
    "                             ّ    | # Shadda\n",
    "                             َ    | # Fatha\n",
    "                             ً    | # Tanwin Fath\n",
    "                             ُ    | # Damma\n",
    "                             ٌ    | # Tanwin Damm\n",
    "                             ِ    | # Kasra\n",
    "                             ٍ    | # Tanwin Kasr\n",
    "                             ْ    | # Sukun\n",
    "                             ـ     # Tatwil/Kashida\n",
    "                         \"\"\", re.VERBOSE)\n",
    "\n",
    "def preprocess(text):\n",
    "    \n",
    "    #remove punctuations\n",
    "    translator = str.maketrans('', '', punctuations)\n",
    "    text = text.translate(translator)\n",
    "    \n",
    "    # remove Tashkeel\n",
    "    text = re.sub(arabic_diacritics, '', text)\n",
    "    text = re.sub('[A-Za-z0-9]',' ',text)\n",
    "    \n",
    "    #remove longation\n",
    "    text = re.sub(\"[إأآا]\", \"ا\", text)\n",
    "    text = re.sub(\"ى\", \"ي\", text)\n",
    "    text = re.sub(\"ؤ\", \"ء\", text)\n",
    "    text = re.sub(\"ئ\", \"ء\", text)\n",
    "    text = re.sub(\"ة\", \"ه\", text)\n",
    "    text = re.sub(\"گ\", \"ك\", text)\n",
    "\n",
    "    text = ' '.join(word for word in text.split() if word not in stop_words)\n",
    "\n",
    "    return text\n",
    "  \n"
   ]
  },
  {
   "cell_type": "code",
   "execution_count": 11,
   "id": "19300f05",
   "metadata": {},
   "outputs": [],
   "source": [
    "VersAR.reset_index(inplace=True,drop=True)"
   ]
  },
  {
   "cell_type": "code",
   "execution_count": 12,
   "id": "10e6a6f3",
   "metadata": {},
   "outputs": [],
   "source": [
    "labels1 = ['Neutral','Negative','Positive']"
   ]
  },
  {
   "cell_type": "code",
   "execution_count": 13,
   "id": "53385564",
   "metadata": {},
   "outputs": [
    {
     "data": {
      "text/plain": [
       "127614"
      ]
     },
     "execution_count": 13,
     "metadata": {},
     "output_type": "execute_result"
    }
   ],
   "source": [
    "len(VersAR)"
   ]
  },
  {
   "cell_type": "code",
   "execution_count": 15,
   "id": "1983f3c6",
   "metadata": {},
   "outputs": [
    {
     "data": {
      "text/html": [
       "<div>\n",
       "<style scoped>\n",
       "    .dataframe tbody tr th:only-of-type {\n",
       "        vertical-align: middle;\n",
       "    }\n",
       "\n",
       "    .dataframe tbody tr th {\n",
       "        vertical-align: top;\n",
       "    }\n",
       "\n",
       "    .dataframe thead th {\n",
       "        text-align: right;\n",
       "    }\n",
       "</style>\n",
       "<table border=\"1\" class=\"dataframe\">\n",
       "  <thead>\n",
       "    <tr style=\"text-align: right;\">\n",
       "      <th></th>\n",
       "      <th>Content</th>\n",
       "      <th>Tweet Id</th>\n",
       "    </tr>\n",
       "  </thead>\n",
       "  <tbody>\n",
       "    <tr>\n",
       "      <th>0</th>\n",
       "      <td>تكفّلت الأطفال الأيتام من مجزرة دير ياسين، و ق...</td>\n",
       "      <td>1535198740876869888</td>\n",
       "    </tr>\n",
       "    <tr>\n",
       "      <th>1</th>\n",
       "      <td>اللهم كن لإخواننا في فلسطين وغزه عونا اللهم ال...</td>\n",
       "      <td>1556881938350318080</td>\n",
       "    </tr>\n",
       "    <tr>\n",
       "      <th>2</th>\n",
       "      <td>فيديو يوثق لحظة هروب جنود الاحتلال من حجارة ال...</td>\n",
       "      <td>1534050895209680896</td>\n",
       "    </tr>\n",
       "    <tr>\n",
       "      <th>3</th>\n",
       "      <td>بن غفير عضو الكنيست والمتشدد وفي ظل الاعتدائات...</td>\n",
       "      <td>1493543385822646016</td>\n",
       "    </tr>\n",
       "    <tr>\n",
       "      <th>4</th>\n",
       "      <td>#نفير_الأقصى سيعود الحق إلى أهله  ما دام وراء ...</td>\n",
       "      <td>1530616162555420928</td>\n",
       "    </tr>\n",
       "    <tr>\n",
       "      <th>5</th>\n",
       "      <td>تعزّ علينا فلسطين تعز علينا أحزانها فسلامُ الل...</td>\n",
       "      <td>1515635054197850112</td>\n",
       "    </tr>\n",
       "    <tr>\n",
       "      <th>6</th>\n",
       "      <td>فلسطين الفرح ..</td>\n",
       "      <td>1512142051118362880</td>\n",
       "    </tr>\n",
       "    <tr>\n",
       "      <th>7</th>\n",
       "      <td>محمد شلح، أحد قادة حركة الجهاد الإسلامي في فلس...</td>\n",
       "      <td>1517105578434253056</td>\n",
       "    </tr>\n",
       "    <tr>\n",
       "      <th>8</th>\n",
       "      <td>ماذا يملك العدو مقابل عزّمنا؟  \"عزّمنا القسّام...</td>\n",
       "      <td>1538479157172219904</td>\n",
       "    </tr>\n",
       "    <tr>\n",
       "      <th>9</th>\n",
       "      <td>يافا عروس بحر فلسطين 🇵🇸💙      :// .  / 5  1 3</td>\n",
       "      <td>1527019843416953088</td>\n",
       "    </tr>\n",
       "  </tbody>\n",
       "</table>\n",
       "</div>"
      ],
      "text/plain": [
       "                                             Content             Tweet Id\n",
       "0  تكفّلت الأطفال الأيتام من مجزرة دير ياسين، و ق...  1535198740876869888\n",
       "1  اللهم كن لإخواننا في فلسطين وغزه عونا اللهم ال...  1556881938350318080\n",
       "2  فيديو يوثق لحظة هروب جنود الاحتلال من حجارة ال...  1534050895209680896\n",
       "3  بن غفير عضو الكنيست والمتشدد وفي ظل الاعتدائات...  1493543385822646016\n",
       "4  #نفير_الأقصى سيعود الحق إلى أهله  ما دام وراء ...  1530616162555420928\n",
       "5  تعزّ علينا فلسطين تعز علينا أحزانها فسلامُ الل...  1515635054197850112\n",
       "6                                    فلسطين الفرح ..  1512142051118362880\n",
       "7  محمد شلح، أحد قادة حركة الجهاد الإسلامي في فلس...  1517105578434253056\n",
       "8  ماذا يملك العدو مقابل عزّمنا؟  \"عزّمنا القسّام...  1538479157172219904\n",
       "9   يافا عروس بحر فلسطين 🇵🇸💙      :// .  / 5  1 3     1527019843416953088"
      ]
     },
     "execution_count": 15,
     "metadata": {},
     "output_type": "execute_result"
    }
   ],
   "source": [
    "from random import sample \n",
    "#making a sample with 99.99 % confidence and 0.5 % margin of error\n",
    "VersAR = VersAR.sample(n=69231)\n",
    "VersAR.reset_index(inplace=True,drop=True)\n",
    "VersAR.head(10)"
   ]
  },
  {
   "cell_type": "code",
   "execution_count": 1,
   "id": "4f4e1703",
   "metadata": {
    "scrolled": true
   },
   "outputs": [
    {
     "ename": "NameError",
     "evalue": "name 'VersAR' is not defined",
     "output_type": "error",
     "traceback": [
      "\u001b[1;31m---------------------------------------------------------------------------\u001b[0m",
      "\u001b[1;31mNameError\u001b[0m                                 Traceback (most recent call last)",
      "\u001b[1;32m<ipython-input-1-c8a9cc263124>\u001b[0m in \u001b[0;36m<module>\u001b[1;34m\u001b[0m\n\u001b[0;32m      1\u001b[0m \u001b[1;31m#running the Sentiments Model\u001b[0m\u001b[1;33m\u001b[0m\u001b[1;33m\u001b[0m\u001b[1;33m\u001b[0m\u001b[0m\n\u001b[1;32m----> 2\u001b[1;33m \u001b[1;32mfor\u001b[0m \u001b[0mi\u001b[0m \u001b[1;32min\u001b[0m \u001b[0mrange\u001b[0m\u001b[1;33m(\u001b[0m\u001b[0mlen\u001b[0m\u001b[1;33m(\u001b[0m\u001b[0mVersAR\u001b[0m\u001b[1;33m)\u001b[0m\u001b[1;33m)\u001b[0m \u001b[1;33m:\u001b[0m\u001b[1;33m\u001b[0m\u001b[1;33m\u001b[0m\u001b[0m\n\u001b[0m\u001b[0;32m      3\u001b[0m     \u001b[0mprint\u001b[0m\u001b[1;33m(\u001b[0m\u001b[0mi\u001b[0m\u001b[1;33m)\u001b[0m\u001b[1;33m\u001b[0m\u001b[1;33m\u001b[0m\u001b[0m\n\u001b[0;32m      4\u001b[0m     \u001b[0ms1\u001b[0m \u001b[1;33m=\u001b[0m \u001b[0mpreprocess\u001b[0m\u001b[1;33m(\u001b[0m\u001b[0mVersAR\u001b[0m\u001b[1;33m.\u001b[0m\u001b[0mloc\u001b[0m\u001b[1;33m[\u001b[0m\u001b[0mi\u001b[0m\u001b[1;33m,\u001b[0m\u001b[1;34m'Content'\u001b[0m\u001b[1;33m]\u001b[0m\u001b[1;33m)\u001b[0m\u001b[1;33m\u001b[0m\u001b[1;33m\u001b[0m\u001b[0m\n\u001b[0;32m      5\u001b[0m     \u001b[0mencoded_tweet1\u001b[0m \u001b[1;33m=\u001b[0m \u001b[0mtokenizer1\u001b[0m\u001b[1;33m(\u001b[0m\u001b[0ms1\u001b[0m\u001b[1;33m,\u001b[0m\u001b[0mreturn_tensors\u001b[0m\u001b[1;33m=\u001b[0m\u001b[1;34m'pt'\u001b[0m\u001b[1;33m)\u001b[0m\u001b[1;33m\u001b[0m\u001b[1;33m\u001b[0m\u001b[0m\n",
      "\u001b[1;31mNameError\u001b[0m: name 'VersAR' is not defined"
     ]
    }
   ],
   "source": [
    "#running the Sentiments Model\n",
    "for i in range(len(VersAR)) :\n",
    "    print(i)\n",
    "    s1 = preprocess(VersAR.loc[i,'Content'])\n",
    "    encoded_tweet1 = tokenizer1(s1,return_tensors='pt')\n",
    "    output1 = model1(**encoded_tweet1)\n",
    "    scores1 = output1[0][0].detach().numpy()\n",
    "    scores1 = softmax(scores1)\n",
    "    for j in range(len(scores1)) : \n",
    "        if max(scores1) == scores1[j] : \n",
    "            VersAR.loc[i,'Sentiment'] = labels1[j]\n"
   ]
  },
  {
   "cell_type": "code",
   "execution_count": 17,
   "id": "2cbb6c56",
   "metadata": {},
   "outputs": [],
   "source": [
    "VersAR.to_excel('E:\\\\Work\\\\Data Analysis Projects\\\\Palestinian Project\\\\VersAR.xlsx')"
   ]
  },
  {
   "cell_type": "code",
   "execution_count": 18,
   "id": "049ccdb8",
   "metadata": {},
   "outputs": [
    {
     "data": {
      "text/html": [
       "<div>\n",
       "<style scoped>\n",
       "    .dataframe tbody tr th:only-of-type {\n",
       "        vertical-align: middle;\n",
       "    }\n",
       "\n",
       "    .dataframe tbody tr th {\n",
       "        vertical-align: top;\n",
       "    }\n",
       "\n",
       "    .dataframe thead th {\n",
       "        text-align: right;\n",
       "    }\n",
       "</style>\n",
       "<table border=\"1\" class=\"dataframe\">\n",
       "  <thead>\n",
       "    <tr style=\"text-align: right;\">\n",
       "      <th></th>\n",
       "      <th>Content</th>\n",
       "      <th>Tweet Id</th>\n",
       "      <th>Sentiment</th>\n",
       "    </tr>\n",
       "  </thead>\n",
       "  <tbody>\n",
       "    <tr>\n",
       "      <th>0</th>\n",
       "      <td>تكفّلت الأطفال الأيتام من مجزرة دير ياسين، و ق...</td>\n",
       "      <td>1535198740876869888</td>\n",
       "      <td>Positive</td>\n",
       "    </tr>\n",
       "    <tr>\n",
       "      <th>1</th>\n",
       "      <td>اللهم كن لإخواننا في فلسطين وغزه عونا اللهم ال...</td>\n",
       "      <td>1556881938350318080</td>\n",
       "      <td>Positive</td>\n",
       "    </tr>\n",
       "    <tr>\n",
       "      <th>2</th>\n",
       "      <td>فيديو يوثق لحظة هروب جنود الاحتلال من حجارة ال...</td>\n",
       "      <td>1534050895209680896</td>\n",
       "      <td>Positive</td>\n",
       "    </tr>\n",
       "    <tr>\n",
       "      <th>3</th>\n",
       "      <td>بن غفير عضو الكنيست والمتشدد وفي ظل الاعتدائات...</td>\n",
       "      <td>1493543385822646016</td>\n",
       "      <td>Neutral</td>\n",
       "    </tr>\n",
       "    <tr>\n",
       "      <th>4</th>\n",
       "      <td>#نفير_الأقصى سيعود الحق إلى أهله  ما دام وراء ...</td>\n",
       "      <td>1530616162555420928</td>\n",
       "      <td>Positive</td>\n",
       "    </tr>\n",
       "    <tr>\n",
       "      <th>...</th>\n",
       "      <td>...</td>\n",
       "      <td>...</td>\n",
       "      <td>...</td>\n",
       "    </tr>\n",
       "    <tr>\n",
       "      <th>69226</th>\n",
       "      <td>كمية اللجان الالكترونيه الصفحات الجديده الي دخ...</td>\n",
       "      <td>1556529326820146944</td>\n",
       "      <td>Negative</td>\n",
       "    </tr>\n",
       "    <tr>\n",
       "      <th>69227</th>\n",
       "      <td>مع #غزة نُصرةً ل #فلسطين</td>\n",
       "      <td>1555557912700935936</td>\n",
       "      <td>Positive</td>\n",
       "    </tr>\n",
       "    <tr>\n",
       "      <th>69228</th>\n",
       "      <td>الجيش الإسرائيلي يقرر خطة \" إخلاء سكان غلاف غز...</td>\n",
       "      <td>1555584868582625024</td>\n",
       "      <td>Positive</td>\n",
       "    </tr>\n",
       "    <tr>\n",
       "      <th>69229</th>\n",
       "      <td>تحييد حماس عن العدوان الإسرائيلي على غزة المسم...</td>\n",
       "      <td>1555661914788724992</td>\n",
       "      <td>Positive</td>\n",
       "    </tr>\n",
       "    <tr>\n",
       "      <th>69230</th>\n",
       "      <td>عادي تبكي على #شيرين_ابو_عاقلة  كإنها حدا من أ...</td>\n",
       "      <td>1524288064515976960</td>\n",
       "      <td>Positive</td>\n",
       "    </tr>\n",
       "  </tbody>\n",
       "</table>\n",
       "<p>69231 rows × 3 columns</p>\n",
       "</div>"
      ],
      "text/plain": [
       "                                                 Content             Tweet Id  \\\n",
       "0      تكفّلت الأطفال الأيتام من مجزرة دير ياسين، و ق...  1535198740876869888   \n",
       "1      اللهم كن لإخواننا في فلسطين وغزه عونا اللهم ال...  1556881938350318080   \n",
       "2      فيديو يوثق لحظة هروب جنود الاحتلال من حجارة ال...  1534050895209680896   \n",
       "3      بن غفير عضو الكنيست والمتشدد وفي ظل الاعتدائات...  1493543385822646016   \n",
       "4      #نفير_الأقصى سيعود الحق إلى أهله  ما دام وراء ...  1530616162555420928   \n",
       "...                                                  ...                  ...   \n",
       "69226  كمية اللجان الالكترونيه الصفحات الجديده الي دخ...  1556529326820146944   \n",
       "69227                           مع #غزة نُصرةً ل #فلسطين  1555557912700935936   \n",
       "69228  الجيش الإسرائيلي يقرر خطة \" إخلاء سكان غلاف غز...  1555584868582625024   \n",
       "69229  تحييد حماس عن العدوان الإسرائيلي على غزة المسم...  1555661914788724992   \n",
       "69230  عادي تبكي على #شيرين_ابو_عاقلة  كإنها حدا من أ...  1524288064515976960   \n",
       "\n",
       "      Sentiment  \n",
       "0      Positive  \n",
       "1      Positive  \n",
       "2      Positive  \n",
       "3       Neutral  \n",
       "4      Positive  \n",
       "...         ...  \n",
       "69226  Negative  \n",
       "69227  Positive  \n",
       "69228  Positive  \n",
       "69229  Positive  \n",
       "69230  Positive  \n",
       "\n",
       "[69231 rows x 3 columns]"
      ]
     },
     "execution_count": 18,
     "metadata": {},
     "output_type": "execute_result"
    }
   ],
   "source": [
    "VersAR.loc[VersAR[\"Sentiment\"].notnull()]"
   ]
  }
 ],
 "metadata": {
  "kernelspec": {
   "display_name": "Python 3",
   "language": "python",
   "name": "python3"
  },
  "language_info": {
   "codemirror_mode": {
    "name": "ipython",
    "version": 3
   },
   "file_extension": ".py",
   "mimetype": "text/x-python",
   "name": "python",
   "nbconvert_exporter": "python",
   "pygments_lexer": "ipython3",
   "version": "3.8.8"
  }
 },
 "nbformat": 4,
 "nbformat_minor": 5
}
